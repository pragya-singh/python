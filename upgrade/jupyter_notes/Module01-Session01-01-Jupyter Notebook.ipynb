{
 "cells": [
  {
   "cell_type": "markdown",
   "metadata": {},
   "source": [
    "# Using jupyter notebook"
   ]
  },
  {
   "cell_type": "markdown",
   "metadata": {},
   "source": [
    "### How to use cells"
   ]
  },
  {
   "cell_type": "markdown",
   "metadata": {},
   "source": [
    "- A cell can be used for:\n",
    "    - Coding as well as for headings and titles\n",
    "- Using a cell\n",
    "    - A cell is selected then it will be surrounded by <font color=\"green\"> green </font> box or by a \n",
    "    <font color=\"blue\"> blue </font> box.   \n",
    "    - <font color=\"blue\"> blue </font> box is command mode and <font color=\"green\"> green </font> is edit mode.\n",
    "    - In command mode, pres P to see the list of available commands.\n",
    "    - Adding a cell before or after a cell can be done by getting list of commands or by pressing A or B in command mode"
   ]
  },
  {
   "cell_type": "markdown",
   "metadata": {},
   "source": [
    "### Using Headings"
   ]
  },
  {
   "cell_type": "markdown",
   "metadata": {},
   "source": [
    "- In command mode when m is pressed then the cell will contain markup language\n",
    "- To execute below cell, in command mode press Shift+Enter\n",
    "- Aggain coming back to text mode, double click"
   ]
  },
  {
   "cell_type": "markdown",
   "metadata": {},
   "source": [
    "# Heading1\n",
    "## Heading2\n",
    "### Heading3\n",
    "#### Heading4"
   ]
  },
  {
   "cell_type": "markdown",
   "metadata": {},
   "source": [
    "### Emphasis"
   ]
  },
  {
   "cell_type": "markdown",
   "metadata": {},
   "source": [
    "- In command mode when m is pressed then the cell will contain markup language\n",
    "- To execute below cell, in command mode press Shift+Enter\n",
    "- Aggain coming back to text mode, double click"
   ]
  },
  {
   "cell_type": "markdown",
   "metadata": {},
   "source": [
    "**Bold** <br>\n",
    "__Bold__ <br>\n",
    "*Italisized* <br>\n",
    "_Italisized_ <br>\n",
    "***Bold and Italisized*** <br>\n",
    "___Bold and Italisized___ <br>\n",
    "> Indentation\n",
    ">> Indentation2\n",
    "`monospace or highlighted text` <br>\n",
    "\n",
    "New line \n",
    "\n",
    "<font color=\"green\"> green text</font>"
   ]
  },
  {
   "cell_type": "markdown",
   "metadata": {},
   "source": [
    "### Shortcuts"
   ]
  },
  {
   "cell_type": "markdown",
   "metadata": {},
   "source": [
    "***Command Mode shortcuts*** <br>\n",
    ">**Esc           :** Command Mode<br>\n",
    ">**Enter         :** Edit Mode<br>\n",
    ">**m             :** To change to markdown cell<br>\n",
    ">**y             :** To change to code cell<br>\n",
    ">**A             :** Insert cell before<br>\n",
    ">**B             :** Insert cell after<br>\n",
    ">**DD            :** Delete a cell<br>\n",
    ">**Z             :** Undo the last operation<br>\n",
    ">**F             :** To find the code<br>\n",
    ">**Shift+Up/Down :** To select multiple cells<br>\n",
    ">**Space         :** To scroll downwards<br>\n",
    ">**Shift+Space   :** To scroll upwards<br>\n",
    "\n",
    "***Edit Mode shortcuts*** <br>\n",
    ">**Shift+Enter :** To execute a cell<br>\n",
    ">**Tab         :** Auto Suggest<br>\n",
    ">**Shift+Tab   :** Documentation about the function<br>\n",
    ">**Alt+Enter   :** Execute current cell and insert new cell below<br>\n",
    ">**Ctrl+Shift+-:** Split the cell into two around the cursor<br>\n",
    ">**Shift+M     :** To Merge the two cells"
   ]
  },
  {
   "cell_type": "markdown",
   "metadata": {},
   "source": [
    "### Latex"
   ]
  },
  {
   "cell_type": "markdown",
   "metadata": {},
   "source": [
    "**\\$** *can be used for Mathematical Expression*<br>\n",
    "$(a+b)^2 = a^2 + 2ab + b^2$"
   ]
  }
 ],
 "metadata": {
  "kernelspec": {
   "display_name": "Python 3",
   "language": "python",
   "name": "python3"
  },
  "language_info": {
   "codemirror_mode": {
    "name": "ipython",
    "version": 3
   },
   "file_extension": ".py",
   "mimetype": "text/x-python",
   "name": "python",
   "nbconvert_exporter": "python",
   "pygments_lexer": "ipython3",
   "version": "3.6.5"
  }
 },
 "nbformat": 4,
 "nbformat_minor": 2
}
