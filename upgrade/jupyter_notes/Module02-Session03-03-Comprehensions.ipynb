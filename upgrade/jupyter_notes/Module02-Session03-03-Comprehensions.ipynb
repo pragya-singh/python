{
 "cells": [
  {
   "cell_type": "markdown",
   "metadata": {},
   "source": [
    "### Comprehensions in Python\n",
    "- Less verbose, logic in many lines can be written in more clean and in one line\n",
    "- More performant, because python internally compile it in more performant way and can be done paralley as well\n",
    "- https://docs.python.org/3/tutorial/datastructures.html#list-comprehensions\n",
    "- Links suggested:\n",
    "> https://treyhunner.com/2015/12/python-list-comprehensions-now-in-color/\n",
    "> https://python-3-patterns-idioms-test.readthedocs.io/en/latest/Comprehensions.html"
   ]
  },
  {
   "cell_type": "code",
   "execution_count": 31,
   "metadata": {},
   "outputs": [
    {
     "name": "stdout",
     "output_type": "stream",
     "text": [
      "[1, 4, 9, 16, 25, 36, 49, 64, 81]\n",
      "[1, 4, 9, 16, 25, 36, 49, 64, 81]\n"
     ]
    }
   ],
   "source": [
    "# Square of each element using for loop\n",
    "decimal_system_digits = [1,2,3,4,5,6,7,8,9]\n",
    "squares = []\n",
    "for el in decimal_system_digits:\n",
    "    squares.append(el**2)\n",
    "print(squares)\n",
    "\n",
    "# Square of each element using comprehension\n",
    "squares = [x**2 for x in decimal_system_digits]\n",
    "print(squares)"
   ]
  },
  {
   "cell_type": "code",
   "execution_count": 32,
   "metadata": {},
   "outputs": [
    {
     "name": "stdout",
     "output_type": "stream",
     "text": [
      "['If', 'you', 'want', 'to', 'reach', 'at', 'the', 'peak', 'of', 'something', 'you', 'need', 'to', 'work', 'hard', 'There', 'is', 'no', 'shortcut', 'This', 'is', 'also', 'true', 'that', 'only', 'hard', 'work', 'is', 'not', 'sufficient', 'You', 'need', 'to', 'think', 'smartly', 'You', 'have', 'to', 'manage', 'your', 'time']\n",
      "['You', 'have', 'to', 'manage', 'your', 'time', 'You', 'have', 'to', 'manage', 'your', 'time', 'You', 'have', 'to', 'manage', 'your', 'time', 'You', 'have', 'to', 'manage', 'your', 'time', 'You', 'have', 'to', 'manage', 'your', 'time']\n"
     ]
    }
   ],
   "source": [
    "# List of words in paragraph using for loop\n",
    "paragraph = ['If you want to reach at the peak of something you need to work hard.', 'There is no shortcut.', 'This is also true that only hard work is not sufficient.', 'You need to think smartly.', 'You have to manage your time.']\n",
    "words = []\n",
    "for sentence in paragraph:\n",
    "    for word in sentence.split():\n",
    "        words.append(word.rstrip('.'))\n",
    "print(words)\n",
    "\n",
    "# List of words in paragraph using comprehension\n",
    "words = [word.rstrip('.') for senetence in paragraph for word in sentence.split()]\n",
    "print(words)"
   ]
  },
  {
   "cell_type": "code",
   "execution_count": 33,
   "metadata": {},
   "outputs": [
    {
     "name": "stdout",
     "output_type": "stream",
     "text": [
      "['If', 'at', 'of', 'is', 'is', 'also', 'only', 'is']\n",
      "['If', 'at', 'of', 'is', 'is', 'also', 'only', 'is']\n"
     ]
    }
   ],
   "source": [
    "# List of words in paragraph containing first character as vowels using for loop\n",
    "vowels = ['a','e','i','o','u']\n",
    "paragraph = ['If you want to reach at the peak of something you need to work hard.', 'There is no shortcut.', 'This is also true that only hard work is not sufficient.', 'You need to think smartly.', 'You have to manage your time.']\n",
    "words = []\n",
    "for sentence in paragraph:\n",
    "    for word in sentence.split():\n",
    "        if word[0].lower() in vowels:\n",
    "            words.append(word.rstrip('.'))\n",
    "print(words)\n",
    "# List of words in paragraph containing first character as vowels using comprehensions\n",
    "words = [word.rstrip('.') for sentence in paragraph for word in sentence.split() if word[0].lower() in vowels]\n",
    "print(words)"
   ]
  },
  {
   "cell_type": "code",
   "execution_count": 34,
   "metadata": {},
   "outputs": [
    {
     "name": "stdout",
     "output_type": "stream",
     "text": [
      "{1: 1, 2: 4, 3: 9, 4: 16, 5: 25, 6: 36, 7: 49, 8: 64, 9: 81}\n",
      "{1: 1, 2: 4, 3: 9, 4: 16, 5: 25, 6: 36, 7: 49, 8: 64, 9: 81}\n"
     ]
    }
   ],
   "source": [
    "sqaured_dictionary = {}\n",
    "for x in range(1,10):\n",
    "    sqaured_dictionary[x] = x**2\n",
    "print(sqaured_dictionary)\n",
    "\n",
    "sqaured_dictionary1 = {x:x**2 for x in range(1,10)}\n",
    "print(sqaured_dictionary1)"
   ]
  },
  {
   "cell_type": "code",
   "execution_count": 35,
   "metadata": {},
   "outputs": [
    {
     "name": "stdout",
     "output_type": "stream",
     "text": [
      "{2: 'Shyam', 4: 'Rocky'}\n",
      "{2: 'Shyam', 4: 'Rocky'}\n"
     ]
    }
   ],
   "source": [
    "students_info = {1:['Ram',24], 2:['Shyam', 22], 3:['Ghanshyam',23], 4:['Rocky', 21]}\n",
    "\n",
    "students_with_even_roll_no = {}\n",
    "for roll,info in students_info.items():\n",
    "    if roll%2 == 0:\n",
    "        students_with_even_roll_no[roll] = info[0]\n",
    "\n",
    "print(students_with_even_roll_no)\n",
    "\n",
    "students_with_even_roll_no1 = {roll:info[0] for roll,info in students_info.items() if roll%2 == 0}\n",
    "print(students_with_even_roll_no1)"
   ]
  }
 ],
 "metadata": {
  "kernelspec": {
   "display_name": "Python 3",
   "language": "python",
   "name": "python3"
  },
  "language_info": {
   "codemirror_mode": {
    "name": "ipython",
    "version": 3
   },
   "file_extension": ".py",
   "mimetype": "text/x-python",
   "name": "python",
   "nbconvert_exporter": "python",
   "pygments_lexer": "ipython3",
   "version": "3.6.5"
  }
 },
 "nbformat": 4,
 "nbformat_minor": 2
}
