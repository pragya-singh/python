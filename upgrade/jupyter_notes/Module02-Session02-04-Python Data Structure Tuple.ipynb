{
 "cells": [
  {
   "cell_type": "markdown",
   "metadata": {},
   "source": [
    "### Tuple(Sequence Data Type)\n",
    "\n",
    "https://docs.python.org/3/tutorial/datastructures.html#tuples-and-sequences\n",
    "\n",
    "**Immutable** in nature. Hence it has following advantage:\n",
    "\n",
    "- By programming mistake we cannot change the value. For example, storing location by longitude and latitude, in list if we added some elements by mistake or removed some value then whole significance of location will be ruined. But this will not happen in case of tuple.\n",
    "- Tuple can be used more efficiently, because list can grow but when we define the same in tuple the everything is fixed."
   ]
  },
  {
   "cell_type": "markdown",
   "metadata": {},
   "source": [
    "### Construct, Access\n",
    "\n",
    "Defined exactly same as list, but instead of \\[\\] we use \\(\\)"
   ]
  },
  {
   "cell_type": "code",
   "execution_count": 2,
   "metadata": {},
   "outputs": [
    {
     "name": "stdout",
     "output_type": "stream",
     "text": [
      "('Koteshwar Rao', '29', 'Finance', \"5'8\")\n"
     ]
    }
   ],
   "source": [
    "employee = (\"Koteshwar Rao\", \"29\", \"Finance\", \"5'8\")\n",
    "print(employee)"
   ]
  },
  {
   "cell_type": "code",
   "execution_count": 7,
   "metadata": {},
   "outputs": [
    {
     "name": "stdout",
     "output_type": "stream",
     "text": [
      "Employee Name=Koteshwar Rao\n",
      "('Koteshwar Rao', '29')\n",
      "('Koteshwar Rao',)\n",
      "5'8\n"
     ]
    }
   ],
   "source": [
    "print(\"Employee Name={}\".format(employee[0]))\n",
    "print(employee[0:2])\n",
    "print(employee[:-3])\n",
    "print(employee[-1])"
   ]
  },
  {
   "cell_type": "code",
   "execution_count": 8,
   "metadata": {},
   "outputs": [
    {
     "name": "stdout",
     "output_type": "stream",
     "text": [
      "('Koteshwar Rao', '29', 'Finance', \"5'8\")\n"
     ]
    }
   ],
   "source": [
    "copied_employee = employee\n",
    "print(copied_employee)"
   ]
  },
  {
   "cell_type": "markdown",
   "metadata": {},
   "source": [
    "### Helping functions"
   ]
  },
  {
   "cell_type": "code",
   "execution_count": 10,
   "metadata": {},
   "outputs": [
    {
     "name": "stdout",
     "output_type": "stream",
     "text": [
      "4\n"
     ]
    }
   ],
   "source": [
    "print(len(employee))"
   ]
  },
  {
   "cell_type": "markdown",
   "metadata": {},
   "source": [
    "### list to tuple and vice versa"
   ]
  },
  {
   "cell_type": "code",
   "execution_count": 9,
   "metadata": {},
   "outputs": [
    {
     "name": "stdout",
     "output_type": "stream",
     "text": [
      "['Koteshwar Rao', '29', 'Finance', \"5'8\"]\n",
      "('Koteshwar Rao', 28, 'Finance', \"5'8\")\n"
     ]
    }
   ],
   "source": [
    "new_employee = list(employee)\n",
    "print(new_employee)\n",
    "new_employee[1] = 28\n",
    "new_employee1 = tuple(new_employee)\n",
    "print(new_employee1)"
   ]
  }
 ],
 "metadata": {
  "kernelspec": {
   "display_name": "Python 3",
   "language": "python",
   "name": "python3"
  },
  "language_info": {
   "codemirror_mode": {
    "name": "ipython",
    "version": 3
   },
   "file_extension": ".py",
   "mimetype": "text/x-python",
   "name": "python",
   "nbconvert_exporter": "python",
   "pygments_lexer": "ipython3",
   "version": "3.6.5"
  }
 },
 "nbformat": 4,
 "nbformat_minor": 2
}
