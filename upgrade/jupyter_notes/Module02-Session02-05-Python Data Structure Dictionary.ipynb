{
 "cells": [
  {
   "cell_type": "markdown",
   "metadata": {},
   "source": [
    "### Dictionary(Key-Value DataType)\n",
    "\n",
    "https://docs.python.org/3.7/tutorial/datastructures.html?highlight=dictionary#dictionaries\n",
    "\n",
    "- A mutable Data Structure which contains key and value.\n",
    "- New keys can be added and new values can be assigned to a dictionary\n",
    "- In case of list or tuple we have to remember the order of the elements to access them but in dictionary it is easier to do because we can remember the keys easily\n"
   ]
  },
  {
   "cell_type": "markdown",
   "metadata": {},
   "source": [
    "### Construct"
   ]
  },
  {
   "cell_type": "code",
   "execution_count": 22,
   "metadata": {},
   "outputs": [
    {
     "name": "stdout",
     "output_type": "stream",
     "text": [
      "Empty Dictionary = {}\n",
      "{'name': 'Anthony Gonzalez', 'age': 64, 'height': \"5'7\", 'hobby': 'Book Reading'}\n",
      "{1: ('Ratan Tata', 98), 2: ('Mukesh Ambani', 90), 3: ('Anil Ambani', 59)}\n"
     ]
    }
   ],
   "source": [
    "empty = {}\n",
    "print(\"Empty Dictionary = {}\".format(empty))\n",
    "person = {\"name\":\"Anthony Gonzalez\", \"age\":64, \"height\":\"5'7\", \"hobby\":\"Book Reading\"}\n",
    "print(person)\n",
    "students = {1:('Ratan Tata', 98), 2:('Mukesh Ambani', 90), 3 :('Anil Ambani', 59)}\n",
    "print(students)"
   ]
  },
  {
   "cell_type": "code",
   "execution_count": 24,
   "metadata": {},
   "outputs": [
    {
     "name": "stdout",
     "output_type": "stream",
     "text": [
      "{'name': 'Arjit Singh', 'nationality': 'Indian', 'songs': ['Tum Hi Ho', 'Sanam Re', 'Pal']}\n"
     ]
    }
   ],
   "source": [
    "# Another way of constructing\n",
    "singer = dict(name='Arjit Singh', nationality='Indian', songs=['Tum Hi Ho', 'Sanam Re', 'Pal'])\n",
    "print(singer)"
   ]
  },
  {
   "cell_type": "markdown",
   "metadata": {},
   "source": [
    "### Access"
   ]
  },
  {
   "cell_type": "code",
   "execution_count": 8,
   "metadata": {},
   "outputs": [
    {
     "name": "stdout",
     "output_type": "stream",
     "text": [
      "Anthony Gonzalez\n",
      "64\n",
      "NA\n"
     ]
    }
   ],
   "source": [
    "print(person['name'])\n",
    "# We can access the value for a key in indexed way as shown above and also using get function. \n",
    "# The advantage of get function is to avoid error in case key is not available by giving a default value \n",
    "# to it, as shown below.\n",
    "print(person.get('age'))\n",
    "print(person.get('profession','NA'))"
   ]
  },
  {
   "cell_type": "markdown",
   "metadata": {},
   "source": [
    "### Updating/Adding/Deleting a key and value"
   ]
  },
  {
   "cell_type": "code",
   "execution_count": 25,
   "metadata": {},
   "outputs": [
    {
     "name": "stdout",
     "output_type": "stream",
     "text": [
      "{'name': 'Anthony Gonzalez', 'age': 46, 'height': \"5'7\", 'profession': 'Software Engineer'}\n",
      "{1: ('Ratan Tata', 98), 2: ('Mukesh Ambani', 90)}\n"
     ]
    }
   ],
   "source": [
    "# If key already exists the value is overwritten else the new key is added\n",
    "person['age'] = 46\n",
    "person['profession'] = 'Software Engineer'\n",
    "del person['hobby']\n",
    "print(person)\n",
    "del students[3]\n",
    "print(students)"
   ]
  },
  {
   "cell_type": "markdown",
   "metadata": {},
   "source": [
    "### Helping Functions"
   ]
  },
  {
   "cell_type": "code",
   "execution_count": 27,
   "metadata": {},
   "outputs": [
    {
     "name": "stdout",
     "output_type": "stream",
     "text": [
      "True\n",
      "['name', 'age', 'height', 'profession']\n",
      "['Anthony Gonzalez', 46, \"5'7\", 'Software Engineer']\n",
      "[('Ratan Tata', 98), ('Mukesh Ambani', 90)]\n",
      "4\n"
     ]
    }
   ],
   "source": [
    "print('profession' in person) # Key exists in Dictionary or not\n",
    "print(list(person.keys())) \n",
    "print(list(person.values()))\n",
    "print(list(students.values()))\n",
    "print(len(person))"
   ]
  }
 ],
 "metadata": {
  "kernelspec": {
   "display_name": "Python 3",
   "language": "python",
   "name": "python3"
  },
  "language_info": {
   "codemirror_mode": {
    "name": "ipython",
    "version": 3
   },
   "file_extension": ".py",
   "mimetype": "text/x-python",
   "name": "python",
   "nbconvert_exporter": "python",
   "pygments_lexer": "ipython3",
   "version": "3.6.5"
  }
 },
 "nbformat": 4,
 "nbformat_minor": 2
}
