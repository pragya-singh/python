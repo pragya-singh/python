{
 "cells": [
  {
   "cell_type": "code",
   "execution_count": 1,
   "metadata": {},
   "outputs": [
    {
     "name": "stdout",
     "output_type": "stream",
     "text": [
      "1\n",
      "2\n",
      "3\n",
      "4\n",
      "5\n",
      "6\n",
      "7\n",
      "8\n",
      "9\n"
     ]
    }
   ],
   "source": [
    "# Range returns a sequence(Excluding the second argument)\n",
    "# Following for loop iterate through each elements of that sequence\n",
    "for i in range(1,10):\n",
    "    print(i)"
   ]
  },
  {
   "cell_type": "code",
   "execution_count": 3,
   "metadata": {},
   "outputs": [
    {
     "name": "stdout",
     "output_type": "stream",
     "text": [
      "1\n",
      "3\n",
      "5\n",
      "7\n",
      "9\n"
     ]
    }
   ],
   "source": [
    "# The third argument in range function tells give 2nd element from current\n",
    "for i in range(1,10,2):\n",
    "    print(i)"
   ]
  },
  {
   "cell_type": "code",
   "execution_count": 9,
   "metadata": {},
   "outputs": [
    {
     "name": "stdout",
     "output_type": "stream",
     "text": [
      "h\n",
      "e\n",
      "l\n",
      "l\n",
      "o\n",
      " \n",
      "w\n",
      "o\n",
      "r\n",
      "l\n",
      "d\n",
      "2\n",
      "3\n",
      "9\n"
     ]
    }
   ],
   "source": [
    "# String is also a sequence of characters/alphabets\n",
    "text = \"hello world\"\n",
    "for alphabet in text:\n",
    "    print(alphabet)"
   ]
  },
  {
   "cell_type": "code",
   "execution_count": 10,
   "metadata": {},
   "outputs": [
    {
     "name": "stdout",
     "output_type": "stream",
     "text": [
      "2\n",
      "3\n",
      "9\n"
     ]
    }
   ],
   "source": [
    "# enumerate function gives pair of index and character. \n",
    "text = \"hello world\"\n",
    "for n,char in enumerate(text):\n",
    "    if char == 'l':\n",
    "        print(n)"
   ]
  },
  {
   "cell_type": "code",
   "execution_count": 4,
   "metadata": {},
   "outputs": [
    {
     "name": "stdout",
     "output_type": "stream",
     "text": [
      "Ram\n",
      "Shyam\n",
      "Ghanshyam\n"
     ]
    }
   ],
   "source": [
    "# In case of list, for loop iterate through its elements\n",
    "students = [\"Ram\", \"Shyam\", \"Ghanshyam\"]\n",
    "for student in students:\n",
    "    print(student)"
   ]
  },
  {
   "cell_type": "code",
   "execution_count": 8,
   "metadata": {},
   "outputs": [
    {
     "name": "stdout",
     "output_type": "stream",
     "text": [
      "3\n",
      "3\n",
      "3\n"
     ]
    }
   ],
   "source": [
    "# for iterator can be used on dictionary data struture also returning key value pairs \n",
    "students = {1:(\"Suraj\",25), 2:(\"Nitin\",26), 3:(\"Aditya\", 22), 4:(\"Suman\", 23), 5:(\"Shikha\",24)}\n",
    "count = 0\n",
    "for key,val in students.items():\n",
    "    if val[1] < 25:\n",
    "        count += 1\n",
    "print(count)\n",
    "\n",
    "# Iteration on keys \n",
    "count = 0\n",
    "for key in list(students.keys()):\n",
    "    if students[key][1] < 25:\n",
    "        count += 1\n",
    "print(count)\n",
    "\n",
    "# Iteration on values\n",
    "count = 0\n",
    "for val in list(students.values()):\n",
    "    if val[1] < 25:\n",
    "        count += 1\n",
    "print(count)\n"
   ]
  },
  {
   "cell_type": "code",
   "execution_count": 13,
   "metadata": {},
   "outputs": [
    {
     "name": "stdout",
     "output_type": "stream",
     "text": [
      "0\n",
      "1\n",
      "2\n",
      "3\n",
      "4\n",
      "0\n",
      "1\n",
      "2\n",
      "None\n",
      "None\n",
      "None\n"
     ]
    }
   ],
   "source": [
    "count = 0\n",
    "\n",
    "while count < 5:\n",
    "    print(count)\n",
    "    count += 1  \n",
    "    \n",
    "d = {0: 'Fish', 1: 'Bird', 2: 'Mammal'}\n",
    "for i in d:\n",
    "    print(i)\n",
    "    \n",
    "d = {0, 1, 2}\n",
    "for x in d:\n",
    "    print(d.add(x))"
   ]
  }
 ],
 "metadata": {
  "kernelspec": {
   "display_name": "Python 3",
   "language": "python",
   "name": "python3"
  },
  "language_info": {
   "codemirror_mode": {
    "name": "ipython",
    "version": 3
   },
   "file_extension": ".py",
   "mimetype": "text/x-python",
   "name": "python",
   "nbconvert_exporter": "python",
   "pygments_lexer": "ipython3",
   "version": "3.6.5"
  }
 },
 "nbformat": 4,
 "nbformat_minor": 2
}
