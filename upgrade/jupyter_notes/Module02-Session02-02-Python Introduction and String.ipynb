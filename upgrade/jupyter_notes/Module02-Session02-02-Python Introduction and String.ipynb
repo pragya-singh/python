{
 "cells": [
  {
   "cell_type": "markdown",
   "metadata": {},
   "source": [
    "### Python Introduction\n",
    "Official website <a>https://www.python.org/about/apps/</a>"
   ]
  },
  {
   "cell_type": "code",
   "execution_count": 36,
   "metadata": {},
   "outputs": [
    {
     "name": "stdout",
     "output_type": "stream",
     "text": [
      "Hello World\n"
     ]
    }
   ],
   "source": [
    "print(\"Hello World\")"
   ]
  },
  {
   "cell_type": "code",
   "execution_count": 37,
   "metadata": {},
   "outputs": [
    {
     "name": "stdout",
     "output_type": "stream",
     "text": [
      "Hello World \n",
      "Hello Python\n"
     ]
    }
   ],
   "source": [
    "print(\"Hello World \\nHello Python\")"
   ]
  },
  {
   "cell_type": "markdown",
   "metadata": {},
   "source": [
    "### Arithmatic Operations"
   ]
  },
  {
   "cell_type": "code",
   "execution_count": 38,
   "metadata": {},
   "outputs": [
    {
     "name": "stdout",
     "output_type": "stream",
     "text": [
      "15\n",
      "5\n",
      "50\n",
      "2.0\n",
      "2\n",
      "0\n",
      "100000\n"
     ]
    }
   ],
   "source": [
    "a = 10\n",
    "b = 5\n",
    "print(a+b)\n",
    "print(a-b)\n",
    "print(a*b)\n",
    "#Division\n",
    "print(a/b)\n",
    "#Dividend\n",
    "print(a//b)\n",
    "#Remainder\n",
    "print(a%b)\n",
    "#Exponetial\n",
    "print(a**b)"
   ]
  },
  {
   "cell_type": "markdown",
   "metadata": {},
   "source": [
    "### BEDMAS(Operation precedence)"
   ]
  },
  {
   "cell_type": "code",
   "execution_count": 39,
   "metadata": {},
   "outputs": [
    {
     "name": "stdout",
     "output_type": "stream",
     "text": [
      "11.857142857142858\n"
     ]
    }
   ],
   "source": [
    "print(4*5-9+6/7)"
   ]
  },
  {
   "cell_type": "markdown",
   "metadata": {},
   "source": [
    "### Increament Operators"
   ]
  },
  {
   "cell_type": "code",
   "execution_count": 40,
   "metadata": {},
   "outputs": [
    {
     "name": "stdout",
     "output_type": "stream",
     "text": [
      "11\n",
      "-1\n"
     ]
    }
   ],
   "source": [
    "a=10\n",
    "b=0\n",
    "a+=1\n",
    "b-=1\n",
    "print(a)\n",
    "print(b)"
   ]
  },
  {
   "cell_type": "markdown",
   "metadata": {},
   "source": [
    "### Logical operators"
   ]
  },
  {
   "cell_type": "code",
   "execution_count": 41,
   "metadata": {},
   "outputs": [
    {
     "name": "stdout",
     "output_type": "stream",
     "text": [
      "True\n",
      "False\n",
      "True\n",
      "True\n",
      "True\n"
     ]
    }
   ],
   "source": [
    "print(3 < 4)\n",
    "print(True and False)\n",
    "print(True or False)\n",
    "print(True != False)\n",
    "print(True and not False)"
   ]
  },
  {
   "cell_type": "markdown",
   "metadata": {},
   "source": [
    "### String/Text Operations"
   ]
  },
  {
   "cell_type": "code",
   "execution_count": 42,
   "metadata": {},
   "outputs": [
    {
     "name": "stdout",
     "output_type": "stream",
     "text": [
      "Machine Learning and AI is an interesting area to explore     \n",
      "Machine Learning and AI is an interesting area to explore\n"
     ]
    }
   ],
   "source": [
    "#Right Strip\n",
    "txt = \"Machine Learning and AI is an interesting area to explore     \"\n",
    "print(txt)\n",
    "print(txt.rstrip())"
   ]
  },
  {
   "cell_type": "code",
   "execution_count": 43,
   "metadata": {},
   "outputs": [
    {
     "name": "stdout",
     "output_type": "stream",
     "text": [
      "     Machine Learning and AI is an interesting area to explore\n",
      "Machine Learning and AI is an interesting area to explore\n"
     ]
    }
   ],
   "source": [
    "#Left Strip\n",
    "txt=\"     Machine Learning and AI is an interesting area to explore\"\n",
    "print(txt)\n",
    "print(txt.lstrip())"
   ]
  },
  {
   "cell_type": "code",
   "execution_count": 44,
   "metadata": {},
   "outputs": [
    {
     "name": "stdout",
     "output_type": "stream",
     "text": [
      "     Machine Learning and AI is an interesting area to explore     \n",
      "Machine Learning and AI is an interesting area to explore\n"
     ]
    }
   ],
   "source": [
    "#Strip spaces from both sides\n",
    "txt=\"     Machine Learning and AI is an interesting area to explore     \"\n",
    "print(txt)\n",
    "print(txt.strip())"
   ]
  },
  {
   "cell_type": "code",
   "execution_count": 45,
   "metadata": {},
   "outputs": [
    {
     "name": "stdout",
     "output_type": "stream",
     "text": [
      "%%45#\n",
      "45\n"
     ]
    }
   ],
   "source": [
    "#Strip any character both sides\n",
    "txt=\"%%45#\"\n",
    "print(txt)\n",
    "print(txt.lstrip(\"%\").rstrip(\"#\"))"
   ]
  },
  {
   "cell_type": "code",
   "execution_count": 46,
   "metadata": {},
   "outputs": [
    {
     "name": "stdout",
     "output_type": "stream",
     "text": [
      "4%\n",
      "4\n"
     ]
    }
   ],
   "source": [
    "#Strip any charater\n",
    "txt = \"4%\"\n",
    "print(txt)\n",
    "print(txt.rstrip(\"%\"))"
   ]
  },
  {
   "cell_type": "markdown",
   "metadata": {},
   "source": [
    "### Indexing and slicing"
   ]
  },
  {
   "cell_type": "code",
   "execution_count": 47,
   "metadata": {},
   "outputs": [
    {
     "name": "stdout",
     "output_type": "stream",
     "text": [
      "Number of apples =  2\n"
     ]
    }
   ],
   "source": [
    "txt = \"2 apples\"\n",
    "print(\"Number of apples = \", txt[0])"
   ]
  },
  {
   "cell_type": "code",
   "execution_count": 48,
   "metadata": {},
   "outputs": [
    {
     "name": "stdout",
     "output_type": "stream",
     "text": [
      "3456789\n",
      "12\n",
      "345\n"
     ]
    }
   ],
   "source": [
    "series = \"123456789\"\n",
    "# list[startIndex:] => Iterate from startIndex till the end\n",
    "print(series[2:])\n",
    "# list[:endIndex] => Iterate from 0th index to the endIndex \n",
    "print(series[:2])\n",
    "# list[startIndex:endIndex] => Iterate from startIndex to endIndex\n",
    "print(series[2:5])"
   ]
  },
  {
   "cell_type": "code",
   "execution_count": 49,
   "metadata": {},
   "outputs": [
    {
     "name": "stdout",
     "output_type": "stream",
     "text": [
      "Odd series =  13579\n",
      "Even Series =  2468\n",
      "Last Character =  9\n",
      "Odd series =  97531\n",
      "Even Series =  8642\n"
     ]
    }
   ],
   "source": [
    "series = \"123456789\"\n",
    "# list[startIndex::increament] => Iterate through list from startIndex by jumping to increament postion \n",
    "# until end reaches\n",
    "print(\"Odd series = \",series[0::2])\n",
    "print(\"Even Series = \", series[1::2])\n",
    "#Reverse Indices\n",
    "print(\"Last Character = \",series[-1])\n",
    "print(\"Odd series = \",series[-1::-2])\n",
    "print(\"Even Series = \", series[-2::-2])"
   ]
  },
  {
   "cell_type": "code",
   "execution_count": 50,
   "metadata": {
    "scrolled": true
   },
   "outputs": [
    {
     "name": "stdout",
     "output_type": "stream",
     "text": [
      "Learning Data Analysis with Pandas\n"
     ]
    }
   ],
   "source": [
    "A = \"Data Analysis\"\n",
    "B = \"Pandas\"\n",
    "print(\"Learning {} with {}\".format(A,B))"
   ]
  },
  {
   "cell_type": "code",
   "execution_count": 51,
   "metadata": {},
   "outputs": [
    {
     "name": "stdout",
     "output_type": "stream",
     "text": [
      "ravi\n",
      "kumar\n",
      "003\n",
      "first_name=ravi,second_name=kumar,code=003\n"
     ]
    }
   ],
   "source": [
    "IN = \"kumar_ravi_003\"\n",
    "info = IN.split(\"_\")\n",
    "first_name = info[1]\n",
    "second_name = info[0]\n",
    "code = info[2]\n",
    "print(first_name)\n",
    "print(second_name)\n",
    "print(code)\n",
    "print(\"first_name={},second_name={},code={}\".format(first_name,second_name,code))"
   ]
  },
  {
   "cell_type": "code",
   "execution_count": 52,
   "metadata": {},
   "outputs": [
    {
     "name": "stdout",
     "output_type": "stream",
     "text": [
      "Python\n",
      "Python\n",
      "6\n"
     ]
    }
   ],
   "source": [
    "str = \"I love Python programming\"\n",
    "print(str[7:13])\n",
    "print(str[-18:-12])\n",
    "print(len('Python'))"
   ]
  }
 ],
 "metadata": {
  "kernelspec": {
   "display_name": "Python 3",
   "language": "python",
   "name": "python3"
  },
  "language_info": {
   "codemirror_mode": {
    "name": "ipython",
    "version": 3
   },
   "file_extension": ".py",
   "mimetype": "text/x-python",
   "name": "python",
   "nbconvert_exporter": "python",
   "pygments_lexer": "ipython3",
   "version": "3.6.5"
  }
 },
 "nbformat": 4,
 "nbformat_minor": 2
}
