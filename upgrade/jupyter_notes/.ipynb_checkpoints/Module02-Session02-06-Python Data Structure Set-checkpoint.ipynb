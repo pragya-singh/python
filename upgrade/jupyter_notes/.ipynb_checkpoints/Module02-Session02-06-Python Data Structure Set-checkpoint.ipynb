{
 "cells": [
  {
   "cell_type": "markdown",
   "metadata": {},
   "source": [
    "### Set\n",
    "\n",
    "https://docs.python.org/3/tutorial/datastructures.html#sets\n",
    "\n",
    "- A data type of unique elements\n",
    "- Neither indexed or labelled\n",
    "- Order is not maintained\n"
   ]
  },
  {
   "cell_type": "markdown",
   "metadata": {},
   "source": [
    "### Construct"
   ]
  },
  {
   "cell_type": "code",
   "execution_count": 3,
   "metadata": {},
   "outputs": [
    {
     "name": "stdout",
     "output_type": "stream",
     "text": [
      "{1, 2, 3, 4, 5, 6, 7, 8, 9}\n",
      "{'B', 'C', 'A'}\n"
     ]
    }
   ],
   "source": [
    "customer_ids = {1,2,3,4,5,6,7,8,9}\n",
    "print(customer_ids)\n",
    "employee_id_list = ['A', 'A', 'B', 'C', 'C', 'C', 'C']\n",
    "employee_ids = set(employee_id_list)\n",
    "print(employee_ids)"
   ]
  },
  {
   "cell_type": "markdown",
   "metadata": {},
   "source": [
    "### Helping Functions"
   ]
  },
  {
   "cell_type": "code",
   "execution_count": 12,
   "metadata": {},
   "outputs": [
    {
     "name": "stdout",
     "output_type": "stream",
     "text": [
      "3\n",
      "<class 'set'>\n",
      "True\n"
     ]
    }
   ],
   "source": [
    "print(len(employee_ids))\n",
    "print(type(customer_ids))\n",
    "print('A' in employee_ids)"
   ]
  },
  {
   "cell_type": "markdown",
   "metadata": {},
   "source": [
    "### Set specific functions"
   ]
  },
  {
   "cell_type": "code",
   "execution_count": 11,
   "metadata": {},
   "outputs": [
    {
     "name": "stdout",
     "output_type": "stream",
     "text": [
      "{'D', 'A', 'B', 'C'}\n",
      "{'D', 'A', 'B', 'C'}\n",
      "{'B', 'C', 'A'}\n",
      "{'B', 'C', 'A'}\n",
      "{'D'}\n",
      "True\n"
     ]
    }
   ],
   "source": [
    "students_passed_in_maths = {'A','B','C','D'}\n",
    "students_passed_in_science = {'A','B','C'}\n",
    "print(students_passed_in_maths | students_passed_in_science) \n",
    "print(students_passed_in_maths.union(students_passed_in_science))\n",
    "print(students_passed_in_maths & students_passed_in_science)\n",
    "print(students_passed_in_maths.intersection(students_passed_in_science))\n",
    "print(students_passed_in_maths - students_passed_in_science)\n",
    "print(students_passed_in_science.issubset(students_passed_in_maths))"
   ]
  },
  {
   "cell_type": "code",
   "execution_count": 1,
   "metadata": {},
   "outputs": [
    {
     "name": "stdout",
     "output_type": "stream",
     "text": [
      "{2, 5, 9, 12, 13, 15, 16, 17, 18, 19}\n"
     ]
    }
   ],
   "source": [
    "C=[2, 5, 9, 12, 13, 15, 16, 17, 18, 19]\n",
    "F=[2, 4, 5, 6, 7, 9, 13, 16]\n",
    "H=[1, 2, 5, 9, 10, 11, 12, 13, 15]\n",
    "setC = set(C)\n",
    "setF = set(F)\n",
    "setH = set(H)\n",
    "print(setC)"
   ]
  }
 ],
 "metadata": {
  "kernelspec": {
   "display_name": "Python 3",
   "language": "python",
   "name": "python3"
  },
  "language_info": {
   "codemirror_mode": {
    "name": "ipython",
    "version": 3
   },
   "file_extension": ".py",
   "mimetype": "text/x-python",
   "name": "python",
   "nbconvert_exporter": "python",
   "pygments_lexer": "ipython3",
   "version": "3.6.5"
  }
 },
 "nbformat": 4,
 "nbformat_minor": 2
}
