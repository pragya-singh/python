{
 "cells": [
  {
   "cell_type": "markdown",
   "metadata": {},
   "source": [
    "### Python Data Structures - List(Sequence Data Type)\n",
    "- *More on list <a>https://docs.python.org/3/tutorial/datastructures.html</a> *\n",
    "- *More on Problem Solving <a>http://interactivepython.org/runestone/static/pythonds/Introduction/GettingStartedwithData.html#built-in-collection-data-types</a> *"
   ]
  },
  {
   "cell_type": "markdown",
   "metadata": {},
   "source": [
    "### Python list construct"
   ]
  },
  {
   "cell_type": "code",
   "execution_count": 3,
   "metadata": {},
   "outputs": [
    {
     "name": "stdout",
     "output_type": "stream",
     "text": [
      "[]\n"
     ]
    }
   ],
   "source": [
    "empty_list = []\n",
    "print(empty_list)"
   ]
  },
  {
   "cell_type": "code",
   "execution_count": 4,
   "metadata": {},
   "outputs": [
    {
     "name": "stdout",
     "output_type": "stream",
     "text": [
      "['R', 'Python', 'SAS', 'Scala', 42]\n"
     ]
    }
   ],
   "source": [
    "DA_languages = ['R', 'Python', 'SAS', 'Scala', 42]\n",
    "print(DA_languages)"
   ]
  },
  {
   "cell_type": "markdown",
   "metadata": {},
   "source": [
    "### Accessing Python list"
   ]
  },
  {
   "cell_type": "code",
   "execution_count": 5,
   "metadata": {},
   "outputs": [
    {
     "name": "stdout",
     "output_type": "stream",
     "text": [
      "R\n",
      "42\n",
      "['R', 'Python', 'SAS']\n",
      "['SAS', 'Scala', 42]\n",
      "['Python', 'SAS']\n",
      "['R', 'Python']\n",
      "['R', 'SAS', 42]\n"
     ]
    }
   ],
   "source": [
    "print(DA_languages[0])\n",
    "print(DA_languages[-1])\n",
    "print(DA_languages[:3])\n",
    "print(DA_languages[2:])\n",
    "print(DA_languages[1:3])\n",
    "print(DA_languages[:-3])\n",
    "print(DA_languages[0::2])"
   ]
  },
  {
   "cell_type": "markdown",
   "metadata": {},
   "source": [
    "### List as Stack"
   ]
  },
  {
   "cell_type": "code",
   "execution_count": 6,
   "metadata": {},
   "outputs": [
    {
     "name": "stdout",
     "output_type": "stream",
     "text": [
      "After pop() ['R', 'Python', 'SAS', 'Scala']\n",
      "42 is popped \n",
      "After append(42) ['R', 'Python', 'SAS', 'Scala', 42]\n"
     ]
    }
   ],
   "source": [
    "# pop([i]) : Works as a pop on a stack and removes the last element of the list\n",
    "lang = DA_languages.pop()\n",
    "print(\"After pop() {}\".format(DA_languages))\n",
    "print(\"{} is popped \".format(lang))\n",
    "DA_languages.append(42)\n",
    "print(\"After append(42) {}\".format(DA_languages))\n"
   ]
  },
  {
   "cell_type": "markdown",
   "metadata": {},
   "source": [
    "### List as Queue"
   ]
  },
  {
   "cell_type": "code",
   "execution_count": 19,
   "metadata": {},
   "outputs": [
    {
     "name": "stdout",
     "output_type": "stream",
     "text": [
      "[2, 3, 4, 5, 6]\n",
      "[2, 3, 4, 5, 6, 1]\n",
      "deque([2, 3, 4, 5, 6])\n",
      "deque([2, 3, 4, 5, 6, 1])\n"
     ]
    }
   ],
   "source": [
    "# Implementing queue using list by pop(0) and append() is slow\n",
    "my_queue = [1,2,3,4,5,6]\n",
    "dequeued_ele = my_queue.pop(0)\n",
    "print(my_queue)\n",
    "enqueued_ele = my_queue.append(dequeued_ele)\n",
    "print(my_queue)\n",
    "\n",
    "# Collections deque for fast access as queue\n",
    "from collections import deque\n",
    "nums = [1,2,3,4,5,6]\n",
    "another_queue = deque(nums)\n",
    "dequeued_ele = another_queue.popleft()\n",
    "print(another_queue)\n",
    "enqueued_ele = another_queue.append(dequeued_ele)\n",
    "print(another_queue)"
   ]
  },
  {
   "cell_type": "markdown",
   "metadata": {},
   "source": [
    "### String to list & list to string"
   ]
  },
  {
   "cell_type": "code",
   "execution_count": 7,
   "metadata": {},
   "outputs": [
    {
     "name": "stdout",
     "output_type": "stream",
     "text": [
      "['Hey', 'Saif,', 'this', 'is', 'to', 'inform', 'you', 'that', 'I', 'am', 'not', 'well', 'today.']\n"
     ]
    }
   ],
   "source": [
    "my_sentence = \"Hey Saif, this is to inform you that I am not well today.\"\n",
    "words = my_sentence.split()\n",
    "print(words)"
   ]
  },
  {
   "cell_type": "code",
   "execution_count": 8,
   "metadata": {},
   "outputs": [
    {
     "name": "stdout",
     "output_type": "stream",
     "text": [
      "['Hey Saif, this is to inform you that I am not well today', \" I won't be coming to office but I am available on call\", ' Thanks']\n"
     ]
    }
   ],
   "source": [
    "email = \"Hey Saif, this is to inform you that I am not well today. I won't be coming to office but I am available on call. Thanks\"\n",
    "sentences = email.split(\".\")\n",
    "print(sentences)"
   ]
  },
  {
   "cell_type": "code",
   "execution_count": 9,
   "metadata": {},
   "outputs": [
    {
     "name": "stdout",
     "output_type": "stream",
     "text": [
      "Hey Saif, this is to inform you that I am not well today  I won't be coming to office but I am available on call  Thanks\n",
      "Hey Saif, this is to inform you that I am not well today. I won't be coming to office but I am available on call. Thanks\n"
     ]
    }
   ],
   "source": [
    "# Join can combine the elements of list to give string \n",
    "joined_email = \" \".join(sentences)\n",
    "print(joined_email)\n",
    "new_email = \".\".join(sentences)\n",
    "print(new_email)"
   ]
  },
  {
   "cell_type": "markdown",
   "metadata": {},
   "source": [
    "### Convenient functions in list"
   ]
  },
  {
   "cell_type": "code",
   "execution_count": 10,
   "metadata": {},
   "outputs": [
    {
     "name": "stdout",
     "output_type": "stream",
     "text": [
      "['Hi', 'Hi', 'Hi', 'Hi', 'Hi']\n",
      "['Hi', 'Hi']\n"
     ]
    }
   ],
   "source": [
    "my_list = [\"Hi\"]\n",
    "print(my_list*5)\n",
    "print(my_list+my_list)"
   ]
  },
  {
   "cell_type": "code",
   "execution_count": 11,
   "metadata": {},
   "outputs": [
    {
     "name": "stdout",
     "output_type": "stream",
     "text": [
      "10\n",
      "9\n",
      "0\n",
      "[0, 1, 2, 3, 4, 5, 6, 7, 8, 9]\n"
     ]
    }
   ],
   "source": [
    "decimal_digits = [9,8,7,6,5,4,3,2,1,0]\n",
    "print(len(decimal_digits))\n",
    "print(max(decimal_digits))\n",
    "print(min(decimal_digits))\n",
    "print(sorted(decimal_digits))"
   ]
  },
  {
   "cell_type": "markdown",
   "metadata": {},
   "source": [
    "### Nested List"
   ]
  },
  {
   "cell_type": "code",
   "execution_count": 12,
   "metadata": {},
   "outputs": [
    {
     "name": "stdout",
     "output_type": "stream",
     "text": [
      "2\n",
      "9\n",
      "[]\n"
     ]
    }
   ],
   "source": [
    "nest = [[1,2,3,4], [5,6,7], [8,9]]\n",
    "print(nest[0][1])\n",
    "print(nest[2][1])\n",
    "word = ['1','2','3','4']\n",
    "word[ : ] = []\n",
    "print(word)"
   ]
  }
 ],
 "metadata": {
  "kernelspec": {
   "display_name": "Python 3",
   "language": "python",
   "name": "python3"
  },
  "language_info": {
   "codemirror_mode": {
    "name": "ipython",
    "version": 3
   },
   "file_extension": ".py",
   "mimetype": "text/x-python",
   "name": "python",
   "nbconvert_exporter": "python",
   "pygments_lexer": "ipython3",
   "version": "3.6.5"
  }
 },
 "nbformat": 4,
 "nbformat_minor": 2
}
