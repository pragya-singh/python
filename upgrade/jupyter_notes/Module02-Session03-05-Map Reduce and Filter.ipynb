{
 "cells": [
  {
   "cell_type": "markdown",
   "metadata": {},
   "source": [
    "### MAP, REDUCE and FILTER\n",
    "- built in iterable functions in python\n",
    "- Works on collections which are iterable\n",
    "- same can be done using loops but why we should use them because\n",
    "    - Less verbose\n",
    "    - Iternally python will make it more optimized\n",
    "- Additional content:\n",
    "    - https://www.python-course.eu/lambda.php\n",
    "    - http://book.pythontips.com/en/latest/map_filter.html"
   ]
  },
  {
   "cell_type": "markdown",
   "metadata": {},
   "source": [
    "### MAP"
   ]
  },
  {
   "cell_type": "code",
   "execution_count": 1,
   "metadata": {},
   "outputs": [
    {
     "name": "stdout",
     "output_type": "stream",
     "text": [
      "<map object at 0x107d16b38>\n",
      "[1, 4, 9, 16, 25, 36, 49, 64, 81]\n"
     ]
    }
   ],
   "source": [
    "# map function which takes first argument a function and another argument as some iterator\n",
    "# function is applied on all element of iterator\n",
    "squared = map(lambda x:x**2,range(1,10))\n",
    "print(squared)\n",
    "print(list(squared))"
   ]
  },
  {
   "cell_type": "code",
   "execution_count": 2,
   "metadata": {},
   "outputs": [
    {
     "name": "stdout",
     "output_type": "stream",
     "text": [
      "[2, 6, 12, 20]\n"
     ]
    }
   ],
   "source": [
    "list1 = [1,2,3,4]\n",
    "list2 = [x**2 for x in list1]\n",
    "print(list(map(lambda x,y:x+y, list1, list2)))"
   ]
  },
  {
   "cell_type": "code",
   "execution_count": 23,
   "metadata": {},
   "outputs": [
    {
     "name": "stdout",
     "output_type": "stream",
     "text": [
      "['Sachin Tendulkar', 'Sourav Ganguly', 'Raahul Dravid']\n"
     ]
    },
    {
     "data": {
      "text/plain": [
       "2"
      ]
     },
     "execution_count": 23,
     "metadata": {},
     "output_type": "execute_result"
    }
   ],
   "source": [
    "first_names = ['sachin','sourav','raahul']\n",
    "last_name = ['tendulkar','ganguly','dravid']\n",
    "proper = lambda f,l:f[0].upper()+f[1:]+\" \"+l[0].upper()+l[1:]\n",
    "print(list(map(proper, first_names,last_name)))\n",
    "sum(list(map(lambda w : 1 if w[0].upper() == 'S' else 0, first_names)))"
   ]
  },
  {
   "cell_type": "markdown",
   "metadata": {},
   "source": [
    "### Filter"
   ]
  },
  {
   "cell_type": "code",
   "execution_count": 7,
   "metadata": {},
   "outputs": [
    {
     "name": "stdout",
     "output_type": "stream",
     "text": [
      "<filter object at 0x107d3b128>\n",
      "[3, 6, 9]\n"
     ]
    }
   ],
   "source": [
    "nums = range(1,10)\n",
    "print(filter(lambda x:x%3==0, nums))\n",
    "print(list(filter(lambda x:x%3==0, nums)))"
   ]
  },
  {
   "cell_type": "markdown",
   "metadata": {},
   "source": [
    "### Reduce"
   ]
  },
  {
   "cell_type": "code",
   "execution_count": 9,
   "metadata": {},
   "outputs": [
    {
     "name": "stdout",
     "output_type": "stream",
     "text": [
      "45\n"
     ]
    }
   ],
   "source": [
    "from functools import reduce\n",
    "\n",
    "numbers = [1,2,3,4,5,6,7,8,9]\n",
    "print(reduce(lambda x,y:x+y, numbers))"
   ]
  },
  {
   "cell_type": "code",
   "execution_count": 16,
   "metadata": {},
   "outputs": [
    {
     "name": "stdout",
     "output_type": "stream",
     "text": [
      "67\n",
      "False\n"
     ]
    }
   ],
   "source": [
    "jumbled = [23,36,12,14,15,67,45,57]\n",
    "maximum = reduce(lambda x,y: x if x>y else y, jumbled)\n",
    "print(maximum)\n",
    "#reduce(lambda w1,w2: if w[0] == 's' )"
   ]
  },
  {
   "cell_type": "code",
   "execution_count": 43,
   "metadata": {},
   "outputs": [
    {
     "name": "stdout",
     "output_type": "stream",
     "text": [
      "[1, 2, 3, 4, 5, 6]\n",
      "720\n"
     ]
    }
   ],
   "source": [
    "n = 6\n",
    "\n",
    "temp = [1] if n==0 else list(range(1,n+1))\n",
    "\n",
    "    \n",
    "print(temp)\n",
    "print(reduce(lambda x,y: x*y, temp))"
   ]
  }
 ],
 "metadata": {
  "kernelspec": {
   "display_name": "Python 3",
   "language": "python",
   "name": "python3"
  },
  "language_info": {
   "codemirror_mode": {
    "name": "ipython",
    "version": 3
   },
   "file_extension": ".py",
   "mimetype": "text/x-python",
   "name": "python",
   "nbconvert_exporter": "python",
   "pygments_lexer": "ipython3",
   "version": "3.6.5"
  }
 },
 "nbformat": 4,
 "nbformat_minor": 2
}
